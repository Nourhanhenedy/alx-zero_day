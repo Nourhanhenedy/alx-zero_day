{
 "cells": [
  {
   "cell_type": "markdown",
   "id": "ee6109a0",
   "metadata": {
    "papermill": {
     "duration": 0.010891,
     "end_time": "2024-05-06T16:09:01.080337",
     "exception": false,
     "start_time": "2024-05-06T16:09:01.069446",
     "status": "completed"
    },
    "tags": []
   },
   "source": [
    "Swin Transformers\n",
    "This notebook trains a Vision Transformer on Alzheimer_s Dataset."
   ]
  },
  {
   "cell_type": "code",
   "execution_count": 1,
   "id": "902a84c0",
   "metadata": {
    "execution": {
     "iopub.execute_input": "2024-05-06T16:09:01.102531Z",
     "iopub.status.busy": "2024-05-06T16:09:01.102172Z",
     "iopub.status.idle": "2024-05-06T16:09:01.847103Z",
     "shell.execute_reply": "2024-05-06T16:09:01.846109Z"
    },
    "papermill": {
     "duration": 0.75869,
     "end_time": "2024-05-06T16:09:01.849481",
     "exception": false,
     "start_time": "2024-05-06T16:09:01.090791",
     "status": "completed"
    },
    "tags": []
   },
   "outputs": [],
   "source": [
    "# This Python 3 environment comes with many helpful analytics libraries installed\n",
    "# It is defined by the kaggle/python Docker image: https://github.com/kaggle/docker-python\n",
    "# For example, here's several helpful packages to load\n",
    "# We use Alzheimer_s Dataset to demonstrate the classification method\n",
    "\n",
    "import numpy as np # linear algebra\n",
    "import pandas as pd # data processing, CSV file I/O (e.g. pd.read_csv)\n",
    "import os\n",
    "\n",
    "# You can write up to 20GB to the current directory (/kaggle/working/) that gets preserved as output when you create a version using \"Save & Run All\"\n",
    "# You can also write temporary files to /kaggle/temp/, but they won't be saved outside of the current session"
   ]
  },
  {
   "cell_type": "code",
   "execution_count": 2,
   "id": "34ba6ca3",
   "metadata": {
    "execution": {
     "iopub.execute_input": "2024-05-06T16:09:01.872236Z",
     "iopub.status.busy": "2024-05-06T16:09:01.871489Z",
     "iopub.status.idle": "2024-05-06T16:09:09.326485Z",
     "shell.execute_reply": "2024-05-06T16:09:09.325530Z"
    },
    "papermill": {
     "duration": 7.468742,
     "end_time": "2024-05-06T16:09:09.328937",
     "exception": false,
     "start_time": "2024-05-06T16:09:01.860195",
     "status": "completed"
    },
    "tags": []
   },
   "outputs": [],
   "source": [
    "import torch\n",
    "import torchvision\n",
    "from torchvision import datasets\n",
    "from torchvision import models\n",
    "from torchvision import transforms as T# for simplifying the transforms\n",
    "from torch import nn, optim\n",
    "import torch.nn as nn\n",
    "from torch.nn import functional as F\n",
    "import torch.optim as optim\n",
    "from torch.utils.data import DataLoader, sampler, random_split\n",
    "import timm\n",
    "from timm.loss import LabelSmoothingCrossEntropy # This is better than normal nn.CrossEntropyLoss\n"
   ]
  },
  {
   "cell_type": "code",
   "execution_count": 3,
   "id": "70d88ab4",
   "metadata": {
    "execution": {
     "iopub.execute_input": "2024-05-06T16:09:09.351173Z",
     "iopub.status.busy": "2024-05-06T16:09:09.350873Z",
     "iopub.status.idle": "2024-05-06T16:09:09.354932Z",
     "shell.execute_reply": "2024-05-06T16:09:09.354166Z"
    },
    "papermill": {
     "duration": 0.017169,
     "end_time": "2024-05-06T16:09:09.356800",
     "exception": false,
     "start_time": "2024-05-06T16:09:09.339631",
     "status": "completed"
    },
    "tags": []
   },
   "outputs": [],
   "source": [
    "# remove warnings\n",
    "import warnings\n",
    "warnings.filterwarnings(\"ignore\")"
   ]
  },
  {
   "cell_type": "code",
   "execution_count": 4,
   "id": "e8508f95",
   "metadata": {
    "execution": {
     "iopub.execute_input": "2024-05-06T16:09:09.378892Z",
     "iopub.status.busy": "2024-05-06T16:09:09.378630Z",
     "iopub.status.idle": "2024-05-06T16:09:09.383524Z",
     "shell.execute_reply": "2024-05-06T16:09:09.382685Z"
    },
    "papermill": {
     "duration": 0.017979,
     "end_time": "2024-05-06T16:09:09.385485",
     "exception": false,
     "start_time": "2024-05-06T16:09:09.367506",
     "status": "completed"
    },
    "tags": []
   },
   "outputs": [],
   "source": [
    "import matplotlib.pyplot as plt\n",
    "%matplotlib inline"
   ]
  },
  {
   "cell_type": "code",
   "execution_count": 5,
   "id": "282a952a",
   "metadata": {
    "execution": {
     "iopub.execute_input": "2024-05-06T16:09:09.407972Z",
     "iopub.status.busy": "2024-05-06T16:09:09.407699Z",
     "iopub.status.idle": "2024-05-06T16:09:09.411478Z",
     "shell.execute_reply": "2024-05-06T16:09:09.410620Z"
    },
    "papermill": {
     "duration": 0.01647,
     "end_time": "2024-05-06T16:09:09.413296",
     "exception": false,
     "start_time": "2024-05-06T16:09:09.396826",
     "status": "completed"
    },
    "tags": []
   },
   "outputs": [],
   "source": [
    "import sys\n",
    "from tqdm import tqdm\n",
    "import time\n",
    "import copy"
   ]
  },
  {
   "cell_type": "code",
   "execution_count": 6,
   "id": "99a3baa7",
   "metadata": {
    "execution": {
     "iopub.execute_input": "2024-05-06T16:09:09.434817Z",
     "iopub.status.busy": "2024-05-06T16:09:09.434518Z",
     "iopub.status.idle": "2024-05-06T16:09:09.438408Z",
     "shell.execute_reply": "2024-05-06T16:09:09.437596Z"
    },
    "papermill": {
     "duration": 0.016744,
     "end_time": "2024-05-06T16:09:09.440267",
     "exception": false,
     "start_time": "2024-05-06T16:09:09.423523",
     "status": "completed"
    },
    "tags": []
   },
   "outputs": [],
   "source": [
    "def get_classes(data_dir):\n",
    "    all_data = datasets.ImageFolder(data_dir)\n",
    "    return all_data.classes"
   ]
  },
  {
   "cell_type": "code",
   "execution_count": 7,
   "id": "b5c0c8af",
   "metadata": {
    "execution": {
     "iopub.execute_input": "2024-05-06T16:09:09.463075Z",
     "iopub.status.busy": "2024-05-06T16:09:09.462805Z",
     "iopub.status.idle": "2024-05-06T16:09:09.471286Z",
     "shell.execute_reply": "2024-05-06T16:09:09.470514Z"
    },
    "papermill": {
     "duration": 0.021825,
     "end_time": "2024-05-06T16:09:09.473059",
     "exception": false,
     "start_time": "2024-05-06T16:09:09.451234",
     "status": "completed"
    },
    "tags": []
   },
   "outputs": [],
   "source": [
    "def get_data_loaders(data_dir, batch_size, batch_size_test,train_percentage=0.8):\n",
    "    # Define data transformations\n",
    "    transform = T.Compose([\n",
    "        T.RandomHorizontalFlip(),\n",
    "        T.RandomVerticalFlip(),\n",
    "        T.RandomApply(torch.nn.ModuleList([T.ColorJitter()]), p=0.25),\n",
    "        T.Resize(256),\n",
    "        T.CenterCrop(224),\n",
    "        T.ToTensor(),\n",
    "        T.Normalize(timm.data.IMAGENET_DEFAULT_MEAN, timm.data.IMAGENET_DEFAULT_STD),\n",
    "        T.RandomErasing(p=0.1, value='random')\n",
    "    ])\n",
    "\n",
    "    # Load the entire dataset\n",
    "    full_dataset = datasets.ImageFolder(data_dir, transform=transform)\n",
    "\n",
    "    # Calculate the number of samples for train, validation, and test\n",
    "    total_samples = len(full_dataset)\n",
    "    train_size = int(train_percentage * total_samples)\n",
    "    test_size = total_samples - train_size \n",
    "\n",
    "    # Split the dataset\n",
    "    train_dataset, test_dataset = torch.utils.data.random_split(\n",
    "        full_dataset, [train_size, test_size])\n",
    "\n",
    "    # Create DataLoader for each split\n",
    "    train_loader = DataLoader(train_dataset, batch_size=batch_size, shuffle=True, num_workers=4)\n",
    "    test_loader = DataLoader(test_dataset, batch_size=batch_size_test, shuffle=True, num_workers=4)\n",
    "\n",
    "    return train_loader, test_loader"
   ]
  },
  {
   "cell_type": "code",
   "execution_count": 8,
   "id": "52f10836",
   "metadata": {
    "execution": {
     "iopub.execute_input": "2024-05-06T16:09:09.495257Z",
     "iopub.status.busy": "2024-05-06T16:09:09.494987Z",
     "iopub.status.idle": "2024-05-06T16:09:09.498763Z",
     "shell.execute_reply": "2024-05-06T16:09:09.497956Z"
    },
    "papermill": {
     "duration": 0.017419,
     "end_time": "2024-05-06T16:09:09.500694",
     "exception": false,
     "start_time": "2024-05-06T16:09:09.483275",
     "status": "completed"
    },
    "tags": []
   },
   "outputs": [],
   "source": [
    "dataset_path =\"/kaggle/input/fdata-adni-dataset/AugmentedAlzheimerDataset\""
   ]
  },
  {
   "cell_type": "code",
   "execution_count": 9,
   "id": "fd99e15c",
   "metadata": {
    "execution": {
     "iopub.execute_input": "2024-05-06T16:09:09.522058Z",
     "iopub.status.busy": "2024-05-06T16:09:09.521819Z",
     "iopub.status.idle": "2024-05-06T16:09:35.181513Z",
     "shell.execute_reply": "2024-05-06T16:09:35.180539Z"
    },
    "papermill": {
     "duration": 25.673195,
     "end_time": "2024-05-06T16:09:35.184044",
     "exception": false,
     "start_time": "2024-05-06T16:09:09.510849",
     "status": "completed"
    },
    "tags": []
   },
   "outputs": [],
   "source": [
    "train_loader, test_loader = get_data_loaders(dataset_path , batch_size=64,batch_size_test=32)"
   ]
  },
  {
   "cell_type": "code",
   "execution_count": 10,
   "id": "8948e1c9",
   "metadata": {
    "execution": {
     "iopub.execute_input": "2024-05-06T16:09:35.206972Z",
     "iopub.status.busy": "2024-05-06T16:09:35.206235Z",
     "iopub.status.idle": "2024-05-06T16:09:41.385758Z",
     "shell.execute_reply": "2024-05-06T16:09:41.384593Z"
    },
    "papermill": {
     "duration": 6.19271,
     "end_time": "2024-05-06T16:09:41.387717",
     "exception": false,
     "start_time": "2024-05-06T16:09:35.195007",
     "status": "completed"
    },
    "tags": []
   },
   "outputs": [
    {
     "name": "stdout",
     "output_type": "stream",
     "text": [
      "['AD', 'CN', 'EMCI', 'LMCI'] 4\n"
     ]
    }
   ],
   "source": [
    "classes = get_classes(\"/kaggle/input/fdata-adni-dataset/AugmentedAlzheimerDataset\")\n",
    "print(classes, len(classes))"
   ]
  },
  {
   "cell_type": "code",
   "execution_count": 11,
   "id": "f5c7ec08",
   "metadata": {
    "execution": {
     "iopub.execute_input": "2024-05-06T16:09:41.410052Z",
     "iopub.status.busy": "2024-05-06T16:09:41.409751Z",
     "iopub.status.idle": "2024-05-06T16:09:41.414282Z",
     "shell.execute_reply": "2024-05-06T16:09:41.413418Z"
    },
    "papermill": {
     "duration": 0.017723,
     "end_time": "2024-05-06T16:09:41.416148",
     "exception": false,
     "start_time": "2024-05-06T16:09:41.398425",
     "status": "completed"
    },
    "tags": []
   },
   "outputs": [],
   "source": [
    "dataloaders = {\n",
    "    \"train\": train_loader,\n",
    "    \"test\": test_loader,\n",
    "}\n",
    "\n",
    "dataset_sizes = {\n",
    "    \"train\": len(train_loader.dataset),\n",
    "    \"test\": len(test_loader.dataset),\n",
    "}"
   ]
  },
  {
   "cell_type": "code",
   "execution_count": 12,
   "id": "bfa5596d",
   "metadata": {
    "execution": {
     "iopub.execute_input": "2024-05-06T16:09:41.438022Z",
     "iopub.status.busy": "2024-05-06T16:09:41.437430Z",
     "iopub.status.idle": "2024-05-06T16:09:41.442023Z",
     "shell.execute_reply": "2024-05-06T16:09:41.441221Z"
    },
    "papermill": {
     "duration": 0.017705,
     "end_time": "2024-05-06T16:09:41.444048",
     "exception": false,
     "start_time": "2024-05-06T16:09:41.426343",
     "status": "completed"
    },
    "tags": []
   },
   "outputs": [
    {
     "name": "stdout",
     "output_type": "stream",
     "text": [
      "425 213\n"
     ]
    }
   ],
   "source": [
    "print(len(train_loader), len(test_loader))"
   ]
  },
  {
   "cell_type": "code",
   "execution_count": 13,
   "id": "53226122",
   "metadata": {
    "execution": {
     "iopub.execute_input": "2024-05-06T16:09:41.465886Z",
     "iopub.status.busy": "2024-05-06T16:09:41.465629Z",
     "iopub.status.idle": "2024-05-06T16:09:41.470251Z",
     "shell.execute_reply": "2024-05-06T16:09:41.469392Z"
    },
    "papermill": {
     "duration": 0.017667,
     "end_time": "2024-05-06T16:09:41.472107",
     "exception": false,
     "start_time": "2024-05-06T16:09:41.454440",
     "status": "completed"
    },
    "tags": []
   },
   "outputs": [
    {
     "name": "stdout",
     "output_type": "stream",
     "text": [
      "27187 6797\n"
     ]
    }
   ],
   "source": [
    "print(len(train_loader.dataset),\n",
    "     len(test_loader.dataset))"
   ]
  },
  {
   "cell_type": "code",
   "execution_count": 14,
   "id": "8f4ab985",
   "metadata": {
    "execution": {
     "iopub.execute_input": "2024-05-06T16:09:41.493683Z",
     "iopub.status.busy": "2024-05-06T16:09:41.493386Z",
     "iopub.status.idle": "2024-05-06T16:09:41.547275Z",
     "shell.execute_reply": "2024-05-06T16:09:41.546372Z"
    },
    "papermill": {
     "duration": 0.066783,
     "end_time": "2024-05-06T16:09:41.549222",
     "exception": false,
     "start_time": "2024-05-06T16:09:41.482439",
     "status": "completed"
    },
    "tags": []
   },
   "outputs": [
    {
     "data": {
      "text/plain": [
       "device(type='cuda')"
      ]
     },
     "execution_count": 14,
     "metadata": {},
     "output_type": "execute_result"
    }
   ],
   "source": [
    "# now, for the model\n",
    "device = torch.device('cuda' if torch.cuda.is_available() else 'cpu')\n",
    "device"
   ]
  },
  {
   "cell_type": "code",
   "execution_count": 15,
   "id": "9189a8e9",
   "metadata": {
    "execution": {
     "iopub.execute_input": "2024-05-06T16:09:41.572226Z",
     "iopub.status.busy": "2024-05-06T16:09:41.571904Z",
     "iopub.status.idle": "2024-05-06T16:09:44.079618Z",
     "shell.execute_reply": "2024-05-06T16:09:44.078476Z"
    },
    "papermill": {
     "duration": 2.521657,
     "end_time": "2024-05-06T16:09:44.081653",
     "exception": false,
     "start_time": "2024-05-06T16:09:41.559996",
     "status": "completed"
    },
    "tags": []
   },
   "outputs": [
    {
     "name": "stderr",
     "output_type": "stream",
     "text": [
      "Downloading: \"https://github.com/SharanSMenon/swin-transformer-hub/zipball/main\" to /root/.cache/torch/hub/main.zip\n",
      "Downloading: \"https://github.com/SwinTransformer/storage/releases/download/v1.0.0/swin_tiny_patch4_window7_224.pth\" to /root/.cache/torch/hub/checkpoints/swin_tiny_patch4_window7_224.pth\n",
      "100%|██████████| 109M/109M [00:00<00:00, 305MB/s] \n"
     ]
    },
    {
     "name": "stdout",
     "output_type": "stream",
     "text": [
      "Sequential(\n",
      "  (0): Linear(in_features=768, out_features=512, bias=True)\n",
      "  (1): ReLU()\n",
      "  (2): Dropout(p=0.3, inplace=False)\n",
      "  (3): Linear(in_features=512, out_features=4, bias=True)\n",
      ")\n"
     ]
    }
   ],
   "source": [
    "# Load the pre-trained Swin Transformer model\n",
    "HUB_URL = \"SharanSMenon/swin-transformer-hub:main\"\n",
    "MODEL_NAME = \"swin_tiny_patch4_window7_224\"\n",
    "# check hubconf for more models.\n",
    "swin_model = torch.hub.load(HUB_URL, MODEL_NAME, pretrained=True)\n",
    "\n",
    "# Freeze Swin Transformer model parameters\n",
    "for param in swin_model.parameters():\n",
    "    param.requires_grad = False\n",
    "\n",
    "# Modify the head of the Swin Transformer model\n",
    "n_inputs = swin_model.head.in_features\n",
    "swin_model.head = nn.Sequential(\n",
    "    nn.Linear(n_inputs, 512),\n",
    "    nn.ReLU(),\n",
    "    nn.Dropout(0.3),\n",
    "    nn.Linear(512, len(classes))\n",
    ")\n",
    "swin_model = swin_model.to(device)\n",
    "print(swin_model.head)"
   ]
  },
  {
   "cell_type": "code",
   "execution_count": 16,
   "id": "32fc0734",
   "metadata": {
    "execution": {
     "iopub.execute_input": "2024-05-06T16:09:44.106007Z",
     "iopub.status.busy": "2024-05-06T16:09:44.105695Z",
     "iopub.status.idle": "2024-05-06T16:09:44.110636Z",
     "shell.execute_reply": "2024-05-06T16:09:44.109877Z"
    },
    "papermill": {
     "duration": 0.01926,
     "end_time": "2024-05-06T16:09:44.112458",
     "exception": false,
     "start_time": "2024-05-06T16:09:44.093198",
     "status": "completed"
    },
    "tags": []
   },
   "outputs": [],
   "source": [
    "criterion = LabelSmoothingCrossEntropy()\n",
    "criterion = criterion.to(device)\n",
    "optimizer = optim.AdamW(swin_model.head.parameters(), lr=0.001)"
   ]
  },
  {
   "cell_type": "code",
   "execution_count": 17,
   "id": "455f16bf",
   "metadata": {
    "execution": {
     "iopub.execute_input": "2024-05-06T16:09:44.137028Z",
     "iopub.status.busy": "2024-05-06T16:09:44.136365Z",
     "iopub.status.idle": "2024-05-06T16:09:44.140552Z",
     "shell.execute_reply": "2024-05-06T16:09:44.139732Z"
    },
    "papermill": {
     "duration": 0.018338,
     "end_time": "2024-05-06T16:09:44.142393",
     "exception": false,
     "start_time": "2024-05-06T16:09:44.124055",
     "status": "completed"
    },
    "tags": []
   },
   "outputs": [],
   "source": [
    "# lr scheduler\n",
    "exp_lr_scheduler = optim.lr_scheduler.StepLR(optimizer, step_size=3, gamma=0.97)"
   ]
  },
  {
   "cell_type": "code",
   "execution_count": 18,
   "id": "6da1d51c",
   "metadata": {
    "execution": {
     "iopub.execute_input": "2024-05-06T16:09:44.166940Z",
     "iopub.status.busy": "2024-05-06T16:09:44.166656Z",
     "iopub.status.idle": "2024-05-06T16:09:44.177704Z",
     "shell.execute_reply": "2024-05-06T16:09:44.176848Z"
    },
    "papermill": {
     "duration": 0.02569,
     "end_time": "2024-05-06T16:09:44.179545",
     "exception": false,
     "start_time": "2024-05-06T16:09:44.153855",
     "status": "completed"
    },
    "tags": []
   },
   "outputs": [],
   "source": [
    "import time\n",
    "import copy\n",
    "from tqdm import tqdm\n",
    "\n",
    "def train_model(swin_model, criterion, optimizer, scheduler, num_epochs=30):\n",
    "    since = time.time()\n",
    "    best_model_wts = copy.deepcopy(swin_model.state_dict())\n",
    "    best_acc = 0.0\n",
    "\n",
    "    for epoch in range(num_epochs):\n",
    "        print(f'Epoch {epoch}/{num_epochs - 1}')\n",
    "        print(\"-\"*10)\n",
    "\n",
    "        for phase in ['train']:\n",
    "            if phase == 'train':\n",
    "                swin_model.train()  # Set model to training mode\n",
    "            else:\n",
    "                swin_model.eval()   # Set model to evaluation mode\n",
    "\n",
    "            running_loss = 0.0\n",
    "            running_corrects = 0\n",
    "\n",
    "            for inputs, labels in tqdm(dataloaders[phase]):\n",
    "                inputs = inputs.to(device)\n",
    "                labels = labels.to(device)\n",
    "\n",
    "                optimizer.zero_grad()\n",
    "\n",
    "                with torch.set_grad_enabled(phase == 'train'):\n",
    "                    outputs = swin_model(inputs)\n",
    "                    _, preds = torch.max(outputs, 1)\n",
    "                    loss = criterion(outputs, labels)\n",
    "\n",
    "                    if phase == 'train':\n",
    "                        loss.backward()\n",
    "                        optimizer.step()\n",
    "\n",
    "                running_loss += loss.item() * inputs.size(0)\n",
    "                running_corrects += torch.sum(preds == labels.data)\n",
    "\n",
    "            epoch_loss = running_loss / dataset_sizes[phase]\n",
    "            epoch_acc = running_corrects.double() / dataset_sizes[phase]\n",
    "\n",
    "            print(\"{} Loss: {:.4f} Acc: {:.4f}\".format(phase, epoch_loss, epoch_acc))\n",
    "\n",
    "            if phase == 'train' and epoch_acc > best_acc:\n",
    "                best_acc = epoch_acc\n",
    "                best_model_wts = copy.deepcopy(swin_model.state_dict())\n",
    "\n",
    "        # Learning rate scheduler step placed here\n",
    "        scheduler.step()\n",
    "\n",
    "    time_elapsed = time.time() - since\n",
    "    print(\"Training complete in {:.0f}m {:.0f}s\".format(time_elapsed // 60, time_elapsed % 60))\n",
    "    print(\"Best Acc: {:.4f}\".format(best_acc))\n",
    "\n",
    "    swin_model.load_state_dict(best_model_wts)\n",
    "    return swin_model"
   ]
  },
  {
   "cell_type": "code",
   "execution_count": 19,
   "id": "1fed7eaa",
   "metadata": {
    "execution": {
     "iopub.execute_input": "2024-05-06T16:09:44.203521Z",
     "iopub.status.busy": "2024-05-06T16:09:44.203252Z",
     "iopub.status.idle": "2024-05-06T16:09:44.209376Z",
     "shell.execute_reply": "2024-05-06T16:09:44.208618Z"
    },
    "papermill": {
     "duration": 0.020479,
     "end_time": "2024-05-06T16:09:44.211389",
     "exception": false,
     "start_time": "2024-05-06T16:09:44.190910",
     "status": "completed"
    },
    "tags": []
   },
   "outputs": [],
   "source": [
    "def evaluate_model(model, dataloader):\n",
    "    model.eval()\n",
    "    correct = 0\n",
    "    total = 0\n",
    "    with torch.no_grad():\n",
    "        for data in dataloader:\n",
    "            images, labels = data\n",
    "            images = images.to(device)\n",
    "            labels = labels.to(device)\n",
    "            outputs = model(images)\n",
    "            _, predicted = torch.max(outputs, 1)\n",
    "            total += labels.size(0)\n",
    "            correct += (predicted == labels).sum().item()\n",
    "    accuracy = correct / total\n",
    "    return accuracy"
   ]
  },
  {
   "cell_type": "code",
   "execution_count": 20,
   "id": "714eeec4",
   "metadata": {
    "execution": {
     "iopub.execute_input": "2024-05-06T16:09:44.235038Z",
     "iopub.status.busy": "2024-05-06T16:09:44.234769Z",
     "iopub.status.idle": "2024-05-06T16:13:37.802244Z",
     "shell.execute_reply": "2024-05-06T16:13:37.801114Z"
    },
    "papermill": {
     "duration": 233.62648,
     "end_time": "2024-05-06T16:13:37.849156",
     "exception": false,
     "start_time": "2024-05-06T16:09:44.222676",
     "status": "completed"
    },
    "tags": []
   },
   "outputs": [
    {
     "data": {
      "application/vnd.jupyter.widget-view+json": {
       "model_id": "9e73cf39abf1471f9849579a90762a39",
       "version_major": 2,
       "version_minor": 0
      },
      "text/plain": [
       "model.safetensors:   0%|          | 0.00/102M [00:00<?, ?B/s]"
      ]
     },
     "metadata": {},
     "output_type": "display_data"
    },
    {
     "name": "stdout",
     "output_type": "stream",
     "text": [
      "Epoch 0/0\n",
      "----------\n"
     ]
    },
    {
     "name": "stderr",
     "output_type": "stream",
     "text": [
      "100%|██████████| 425/425 [03:23<00:00,  2.09it/s]"
     ]
    },
    {
     "name": "stdout",
     "output_type": "stream",
     "text": [
      "train Loss: 0.8571 Acc: 0.6935\n",
      "Training complete in 3m 23s\n",
      "Best Acc: 0.6935\n"
     ]
    },
    {
     "name": "stderr",
     "output_type": "stream",
     "text": [
      "\n"
     ]
    },
    {
     "name": "stdout",
     "output_type": "stream",
     "text": [
      "Test Accuracy of the Ensemble Model: 0.7902015595115492\n"
     ]
    }
   ],
   "source": [
    "# Load a pre-trained ResNet50 model\n",
    "resnet_model = timm.create_model(\"resnet50\", pretrained=True)\n",
    "\n",
    "# Modify the head of the ResNet50 model\n",
    "num_ftrs = resnet_model.fc.in_features\n",
    "resnet_model.fc = nn.Sequential(\n",
    "    nn.Linear(num_ftrs, 512),\n",
    "    nn.ReLU(),\n",
    "    nn.Dropout(0.3),\n",
    "    nn.Linear(512, len(classes))\n",
    ")\n",
    "\n",
    "# Define an ensemble model that combines both models\n",
    "class Ensemble(nn.Module):\n",
    "    def __init__(self, model1, model2):\n",
    "        super(Ensemble, self).__init__()\n",
    "        self.model1 = model1\n",
    "        self.model2 = model2\n",
    "\n",
    "    def forward(self, x):\n",
    "        output1 = self.model1(x)\n",
    "        output2 = self.model2(x)\n",
    "        output = (output1 + output2) / 2  # Average the predictions\n",
    "        return output\n",
    "\n",
    "# Create an instance of the ensemble model\n",
    "ensemble_model = Ensemble(swin_model, resnet_model)\n",
    "\n",
    "# Move the ensemble model to the appropriate device\n",
    "device = torch.device(\"cuda\" if torch.cuda.is_available() else \"cpu\")\n",
    "ensemble_model = ensemble_model.to(device)\n",
    "\n",
    "# Define loss function and optimizer\n",
    "criterion = LabelSmoothingCrossEntropy()\n",
    "optimizer = optim.AdamW(ensemble_model.parameters(), lr=0.001, weight_decay=1e-5)\n",
    "\n",
    "# Train the ensemble model\n",
    "ensemble_model = train_model(ensemble_model, criterion, optimizer, exp_lr_scheduler, num_epochs=1)\n",
    "\n",
    "# Evaluate the ensemble model\n",
    "test_accuracy = evaluate_model(ensemble_model, test_loader)\n",
    "print(\"Test Accuracy of the Ensemble Model:\", test_accuracy)"
   ]
  },
  {
   "cell_type": "code",
   "execution_count": 21,
   "id": "0e41929f",
   "metadata": {
    "execution": {
     "iopub.execute_input": "2024-05-06T16:13:37.942599Z",
     "iopub.status.busy": "2024-05-06T16:13:37.941672Z",
     "iopub.status.idle": "2024-05-06T16:20:20.683836Z",
     "shell.execute_reply": "2024-05-06T16:20:20.682720Z"
    },
    "papermill": {
     "duration": 402.791561,
     "end_time": "2024-05-06T16:20:20.685924",
     "exception": false,
     "start_time": "2024-05-06T16:13:37.894363",
     "status": "completed"
    },
    "tags": []
   },
   "outputs": [
    {
     "name": "stdout",
     "output_type": "stream",
     "text": [
      "Epoch [1/2], Train Loss: 0.5678, Train Acc: 0.8856\n",
      "Epoch [2/2], Train Loss: 0.4527, Train Acc: 0.9506\n"
     ]
    },
    {
     "data": {
      "image/png": "[encoded data removed]",
      "text/plain": [
       "<Figure size 1000x600 with 1 Axes>"
      ]
     },
     "metadata": {},
     "output_type": "display_data"
    }
   ],
   "source": [
    "# Lists to store training accuracy\n",
    "train_acc_history = []\n",
    "\n",
    "def train_model(model, criterion, optimizer, scheduler, num_epochs=25):\n",
    "    for epoch in range(num_epochs):\n",
    "        # Train phase\n",
    "        model.train()\n",
    "        running_loss = 0.0\n",
    "        correct_train = 0\n",
    "        total_train = 0\n",
    "        for inputs, labels in train_loader:\n",
    "            inputs, labels = inputs.to(device), labels.to(device)\n",
    "            optimizer.zero_grad()\n",
    "            outputs = model(inputs)\n",
    "            _, predicted = torch.max(outputs, 1)\n",
    "            loss = criterion(outputs, labels)\n",
    "            loss.backward()\n",
    "            optimizer.step()\n",
    "            running_loss += loss.item() * inputs.size(0)\n",
    "            total_train += labels.size(0)\n",
    "            correct_train += (predicted == labels).sum().item()\n",
    "        epoch_train_loss = running_loss / len(train_loader.dataset)\n",
    "        epoch_train_acc = correct_train / total_train\n",
    "        train_acc_history.append(epoch_train_acc)\n",
    "\n",
    "        # Print training loss and accuracy\n",
    "        print(f'Epoch [{epoch+1}/{num_epochs}], '\n",
    "              f'Train Loss: {epoch_train_loss:.4f}, Train Acc: {epoch_train_acc:.4f}')\n",
    "        \n",
    "        # Update learning rate\n",
    "        scheduler.step(epoch_train_loss)\n",
    "    \n",
    "    return model\n",
    "\n",
    "# Train the ensemble model\n",
    "ensemble_model = train_model(ensemble_model, criterion, optimizer, exp_lr_scheduler, num_epochs=2)\n",
    "\n",
    "# Plotting the training accuracy graph\n",
    "plt.figure(figsize=(10, 6))\n",
    "plt.plot(train_acc_history, label='Training Accuracy')\n",
    "plt.title('Training Accuracy')\n",
    "plt.xlabel('Epoch')\n",
    "plt.ylabel('Accuracy')\n",
    "plt.legend()\n",
    "plt.grid(False)\n",
    "plt.show()\n"
   ]
  },
  {
   "cell_type": "code",
   "execution_count": 22,
   "id": "f7aaa0d7",
   "metadata": {
    "execution": {
     "iopub.execute_input": "2024-05-06T16:20:20.824454Z",
     "iopub.status.busy": "2024-05-06T16:20:20.824012Z",
     "iopub.status.idle": "2024-05-06T16:27:05.579252Z",
     "shell.execute_reply": "2024-05-06T16:27:05.578038Z"
    },
    "papermill": {
     "duration": 404.804948,
     "end_time": "2024-05-06T16:27:05.581194",
     "exception": false,
     "start_time": "2024-05-06T16:20:20.776246",
     "status": "completed"
    },
    "tags": []
   },
   "outputs": [
    {
     "name": "stdout",
     "output_type": "stream",
     "text": [
      "Epoch [1/2], Train Loss: 0.4203, Train Acc: 0.9681\n",
      "Epoch [2/2], Train Loss: 0.4037, Train Acc: 0.9772\n"
     ]
    },
    {
     "data": {
      "image/png": "[encoded data removed]",
      "text/plain": [
       "<Figure size 600x400 with 1 Axes>"
      ]
     },
     "metadata": {},
     "output_type": "display_data"
    },
    {
     "data": {
      "image/png": "[encoded data removed]",
      "text/plain": [
       "<Figure size 600x400 with 2 Axes>"
      ]
     },
     "metadata": {},
     "output_type": "display_data"
    }
   ],
   "source": [
    "import numpy as np\n",
    "from sklearn.metrics import confusion_matrix\n",
    "\n",
    "# Lists to store training accuracy and labels\n",
    "train_acc_history = []\n",
    "predicted_labels = []\n",
    "true_labels = []\n",
    "\n",
    "def train_model(model, criterion, optimizer, scheduler, num_epochs=25):\n",
    "    for epoch in range(num_epochs):\n",
    "        # Train phase\n",
    "        model.train()\n",
    "        running_loss = 0.0\n",
    "        correct_train = 0\n",
    "        total_train = 0\n",
    "        for inputs, labels in train_loader:\n",
    "            inputs, labels = inputs.to(device), labels.to(device)\n",
    "            optimizer.zero_grad()\n",
    "            outputs = model(inputs)\n",
    "            _, predicted = torch.max(outputs, 1)\n",
    "            loss = criterion(outputs, labels)\n",
    "            loss.backward()\n",
    "            optimizer.step()\n",
    "            running_loss += loss.item() * inputs.size(0)\n",
    "            total_train += labels.size(0)\n",
    "            correct_train += (predicted == labels).sum().item()\n",
    "            # Collect predicted and true labels\n",
    "            predicted_labels.extend(predicted.cpu().numpy())\n",
    "            true_labels.extend(labels.cpu().numpy())\n",
    "        epoch_train_loss = running_loss / len(train_loader.dataset)\n",
    "        epoch_train_acc = correct_train / total_train\n",
    "        train_acc_history.append(epoch_train_acc)\n",
    "\n",
    "        # Print training loss and accuracy\n",
    "        print(f'Epoch [{epoch+1}/{num_epochs}], '\n",
    "              f'Train Loss: {epoch_train_loss:.4f}, Train Acc: {epoch_train_acc:.4f}')\n",
    "        \n",
    "        # Update learning rate\n",
    "        scheduler.step(epoch_train_loss)\n",
    "    \n",
    "    return model\n",
    "\n",
    "# Train the ensemble model\n",
    "ensemble_model = train_model(ensemble_model, criterion, optimizer, exp_lr_scheduler, num_epochs=2)\n",
    "\n",
    "# Calculate the confusion matrix\n",
    "cm = confusion_matrix(true_labels, predicted_labels)\n",
    "\n",
    "# Plotting the training accuracy graph\n",
    "plt.figure(figsize=(6,4))\n",
    "plt.plot(train_acc_history, label='Training Accuracy')\n",
    "plt.title('Training Accuracy')\n",
    "plt.xlabel('Epoch')\n",
    "plt.ylabel('Accuracy')\n",
    "plt.legend()\n",
    "plt.grid(False)\n",
    "plt.show()\n",
    "\n",
    "# Plotting the confusion matrix\n",
    "plt.figure(figsize=(6, 4))\n",
    "plt.imshow(cm, interpolation='nearest', cmap=plt.cm.Blues)\n",
    "plt.title('Confusion Matrix')\n",
    "plt.colorbar()\n",
    "tick_marks = np.arange(len(classes))\n",
    "plt.xticks(tick_marks, classes, rotation=45)\n",
    "plt.yticks(tick_marks, classes)\n",
    "plt.xlabel('Predicted Label')\n",
    "plt.ylabel('True Label')\n",
    "plt.show()\n"
   ]
  },
  {
   "cell_type": "markdown",
   "id": "2f57864b",
   "metadata": {
    "papermill": {
     "duration": 0.045406,
     "end_time": "2024-05-06T16:27:05.674148",
     "exception": false,
     "start_time": "2024-05-06T16:27:05.628742",
     "status": "completed"
    },
    "tags": []
   },
   "source": [
    "## Testing\n",
    "\n",
    "Ok, now we finished training. Lets run the dataset on the test loader and calculate accuracy"
   ]
  },
  {
   "cell_type": "code",
   "execution_count": null,
   "id": "2b87263a",
   "metadata": {
    "papermill": {
     "duration": 0.05531,
     "end_time": "2024-05-06T16:27:05.785148",
     "exception": false,
     "start_time": "2024-05-06T16:27:05.729838",
     "status": "completed"
    },
    "tags": []
   },
   "outputs": [],
   "source": []
  },
  {
   "cell_type": "code",
   "execution_count": 23,
   "id": "7e25cff9",
   "metadata": {
    "execution": {
     "iopub.execute_input": "2024-05-06T16:27:05.879668Z",
     "iopub.status.busy": "2024-05-06T16:27:05.879105Z",
     "iopub.status.idle": "2024-05-06T16:27:35.679639Z",
     "shell.execute_reply": "2024-05-06T16:27:35.678445Z"
    },
    "papermill": {
     "duration": 29.850757,
     "end_time": "2024-05-06T16:27:35.681827",
     "exception": false,
     "start_time": "2024-05-06T16:27:05.831070",
     "status": "completed"
    },
    "tags": []
   },
   "outputs": [
    {
     "name": "stderr",
     "output_type": "stream",
     "text": [
      "100%|██████████| 213/213 [00:29<00:00,  7.15it/s]"
     ]
    },
    {
     "name": "stdout",
     "output_type": "stream",
     "text": [
      "Test Loss: 0.0007\n",
      "Test Accuracy of    AD: 96% (1734/1793)\n",
      "Test Accuracy of    CN: 99% (1285/1288)\n",
      "Test Accuracy of  EMCI: 94% (1827/1934)\n",
      "Test Accuracy of  LMCI: 94% (1673/1769)\n",
      "Test Accuracy of 96% (6519/6784)\n"
     ]
    },
    {
     "name": "stderr",
     "output_type": "stream",
     "text": [
      "\n"
     ]
    }
   ],
   "source": [
    "test_loss = 0.0\n",
    "class_correct = list(0 for i in range(len(classes)))\n",
    "class_total = list(0 for i in range(len(classes)))\n",
    "ensemble_model.eval()\n",
    "\n",
    "for data, target in tqdm(test_loader):\n",
    "    data, target = data.to(device), target.to(device)\n",
    "    with torch.no_grad(): # turn off autograd for faster testing\n",
    "        output = ensemble_model(data)\n",
    "        loss = criterion(output, target)\n",
    "    test_loss = loss.item() * data.size(0)\n",
    "    _, pred = torch.max(output, 1)\n",
    "    correct_tensor = pred.eq(target.data.view_as(pred))\n",
    "    correct = np.squeeze(correct_tensor.cpu().numpy())\n",
    "    if len(target) == 32:\n",
    "        for i in range(32):\n",
    "            label = target.data[i]\n",
    "            class_correct[label] += correct[i].item()\n",
    "            class_total[label] += 1\n",
    "\n",
    "test_loss = test_loss / len(test_loader.dataset)\n",
    "print('Test Loss: {:.4f}'.format(test_loss))\n",
    "for i in range(len(classes)):\n",
    "    if class_total[i] > 0:\n",
    "        print(\"Test Accuracy of %5s: %2d%% (%2d/%2d)\" % (\n",
    "            classes[i], 100*class_correct[i]/class_total[i], np.sum(class_correct[i]), np.sum(class_total[i])\n",
    "        ))\n",
    "    else:\n",
    "       \n",
    "        print(\"Test accuracy of %s: NA\" % (classes[i]))\n",
    "print(\"Test Accuracy of %2d%% (%2d/%2d)\" % (\n",
    "            100*np.sum(class_correct)/np.sum(class_total), np.sum(class_correct), np.sum(class_total)\n",
    "        )) "
   ]
  },
  {
   "cell_type": "markdown",
   "id": "14173998",
   "metadata": {
    "papermill": {
     "duration": 0.062768,
     "end_time": "2024-05-06T16:27:35.825746",
     "exception": false,
     "start_time": "2024-05-06T16:27:35.762978",
     "status": "completed"
    },
    "tags": []
   },
   "source": [
    "our model earns 97% test accuracy, which is very high. let's save it!"
   ]
  },
  {
   "cell_type": "code",
   "execution_count": 24,
   "id": "7e5644b1",
   "metadata": {
    "execution": {
     "iopub.execute_input": "2024-05-06T16:27:35.953029Z",
     "iopub.status.busy": "2024-05-06T16:27:35.952654Z",
     "iopub.status.idle": "2024-05-06T16:27:35.957211Z",
     "shell.execute_reply": "2024-05-06T16:27:35.956228Z"
    },
    "papermill": {
     "duration": 0.070841,
     "end_time": "2024-05-06T16:27:35.959161",
     "exception": false,
     "start_time": "2024-05-06T16:27:35.888320",
     "status": "completed"
    },
    "tags": []
   },
   "outputs": [],
   "source": [
    "# example = torch.rand(1, 3, 224, 224)\n",
    "# traced_script_module = torch.jit.trace(ensemble_model.cpu(), example)\n",
    "# traced_script_module.save(\"/kaggle/working/alzahimer_ensemble_model.pt\")"
   ]
  },
  {
   "cell_type": "code",
   "execution_count": 25,
   "id": "de1ecaa0",
   "metadata": {
    "execution": {
     "iopub.execute_input": "2024-05-06T16:27:36.088370Z",
     "iopub.status.busy": "2024-05-06T16:27:36.087592Z",
     "iopub.status.idle": "2024-05-06T16:28:05.241092Z",
     "shell.execute_reply": "2024-05-06T16:28:05.239996Z"
    },
    "papermill": {
     "duration": 29.219609,
     "end_time": "2024-05-06T16:28:05.243043",
     "exception": false,
     "start_time": "2024-05-06T16:27:36.023434",
     "status": "completed"
    },
    "tags": []
   },
   "outputs": [
    {
     "data": {
      "image/png": "[encoded data removed]",
      "text/plain": [
       "<Figure size 600x400 with 2 Axes>"
      ]
     },
     "metadata": {},
     "output_type": "display_data"
    }
   ],
   "source": [
    "import numpy as np\n",
    "import matplotlib.pyplot as plt\n",
    "from sklearn.metrics import confusion_matrix\n",
    "\n",
    "# Assuming you have the test data and labels loaded into 'test_data' and 'true_labels'\n",
    "\n",
    "# Set the ensemble model to evaluation mode\n",
    "ensemble_model.eval()\n",
    "\n",
    "# Initialize lists to store predicted labels and true labels\n",
    "predicted_labels = []\n",
    "true_labels = []\n",
    "\n",
    "# Iterate over the test data and make predictions\n",
    "for data, labels in test_loader:\n",
    "    data = data.to(device)\n",
    "    with torch.no_grad():\n",
    "        outputs = ensemble_model(data)\n",
    "    _, predicted = torch.max(outputs, 1)\n",
    "    predicted_labels.extend(predicted.cpu().numpy())\n",
    "    true_labels.extend(labels.numpy())\n",
    "\n",
    "# Convert lists to numpy arrays\n",
    "predicted_labels = np.array(predicted_labels)\n",
    "true_labels = np.array(true_labels)\n",
    "\n",
    "# Calculate the confusion matrix\n",
    "cm = confusion_matrix(true_labels, predicted_labels)\n",
    "\n",
    "# Plot confusion matrix\n",
    "plt.figure(figsize=(6, 4))\n",
    "plt.imshow(cm, interpolation='nearest', cmap=plt.cm.Blues)\n",
    "plt.title('Confusion Matrix')\n",
    "plt.colorbar()\n",
    "tick_marks = np.arange(len(classes))\n",
    "plt.xticks(tick_marks, classes, rotation=45)\n",
    "plt.yticks(tick_marks, classes)\n",
    "plt.xlabel('Predicted Label')\n",
    "plt.ylabel('True Label')\n",
    "plt.show()\n"
   ]
  },
  {
   "cell_type": "code",
   "execution_count": null,
   "id": "88c91b5f",
   "metadata": {
    "papermill": {
     "duration": 0.062405,
     "end_time": "2024-05-06T16:28:05.369174",
     "exception": false,
     "start_time": "2024-05-06T16:28:05.306769",
     "status": "completed"
    },
    "tags": []
   },
   "outputs": [],
   "source": []
  }
 ],
 "metadata": {
  "kaggle": {
   "accelerator": "gpu",
   "dataSources": [
    {
     "datasetId": 4408965,
     "sourceId": 7573343,
     "sourceType": "datasetVersion"
    },
    {
     "datasetId": 4861136,
     "sourceId": 8204643,
     "sourceType": "datasetVersion"
    }
   ],
   "dockerImageVersionId": 30683,
   "isGpuEnabled": true,
   "isInternetEnabled": true,
   "language": "python",
   "sourceType": "notebook"
  },
  "kernelspec": {
   "display_name": "Python 3",
   "language": "python",
   "name": "python3"
  },
  "language_info": {
   "codemirror_mode": {
    "name": "ipython",
    "version": 3
   },
   "file_extension": ".py",
   "mimetype": "text/x-python",
   "name": "python",
   "nbconvert_exporter": "python",
   "pygments_lexer": "ipython3",
   "version": "3.10.13"
  },
  "papermill": {
   "default_parameters": {},
   "duration": 1149.742692,
   "end_time": "2024-05-06T16:28:08.030299",
   "environment_variables": {},
   "exception": null,
   "input_path": "__notebook__.ipynb",
   "output_path": "__notebook__.ipynb",
   "parameters": {},
   "start_time": "2024-05-06T16:08:58.287607",
   "version": "2.5.0"
  },
  "widgets": {
   "application/vnd.jupyter.widget-state+json": {
    "state": {
     "02b324fdac4b40d699c85d6d4e671327": {
      "model_module": "@jupyter-widgets/base",
      "model_module_version": "1.2.0",
      "model_name": "LayoutModel",
      "state": {
       "_model_module": "@jupyter-widgets/base",
       "_model_module_version": "1.2.0",
       "_model_name": "LayoutModel",
       "_view_count": null,
       "_view_module": "@jupyter-widgets/base",
       "_view_module_version": "1.2.0",
       "_view_name": "LayoutView",
       "align_content": null,
       "align_items": null,
       "align_self": null,
       "border": null,
       "bottom": null,
       "display": null,
       "flex": null,
       "flex_flow": null,
       "grid_area": null,
       "grid_auto_columns": null,
       "grid_auto_flow": null,
       "grid_auto_rows": null,
       "grid_column": null,
       "grid_gap": null,
       "grid_row": null,
       "grid_template_areas": null,
       "grid_template_columns": null,
       "grid_template_rows": null,
       "height": null,
       "justify_content": null,
       "justify_items": null,
       "left": null,
       "margin": null,
       "max_height": null,
       "max_width": null,
       "min_height": null,
       "min_width": null,
       "object_fit": null,
       "object_position": null,
       "order": null,
       "overflow": null,
       "overflow_x": null,
       "overflow_y": null,
       "padding": null,
       "right": null,
       "top": null,
       "visibility": null,
       "width": null
      }
     },
     "2dd0485921c14787b835169350eea151": {
      "model_module": "@jupyter-widgets/controls",
      "model_module_version": "1.5.0",
      "model_name": "FloatProgressModel",
      "state": {
       "_dom_classes": [],
       "_model_module": "@jupyter-widgets/controls",
       "_model_module_version": "1.5.0",
       "_model_name": "FloatProgressModel",
       "_view_count": null,
       "_view_module": "@jupyter-widgets/controls",
       "_view_module_version": "1.5.0",
       "_view_name": "ProgressView",
       "bar_style": "success",
       "description": "",
       "description_tooltip": null,
       "layout": "IPY_MODEL_35f51010073745edb300ea5818fb4f36",
       "max": 102469840.0,
       "min": 0.0,
       "orientation": "horizontal",
       "style": "IPY_MODEL_6f535a5d27414c89899d2d52ab7487d9",
       "value": 102469840.0
      }
     },
     "35f51010073745edb300ea5818fb4f36": {
      "model_module": "@jupyter-widgets/base",
      "model_module_version": "1.2.0",
      "model_name": "LayoutModel",
      "state": {
       "_model_module": "@jupyter-widgets/base",
       "_model_module_version": "1.2.0",
       "_model_name": "LayoutModel",
       "_view_count": null,
       "_view_module": "@jupyter-widgets/base",
       "_view_module_version": "1.2.0",
       "_view_name": "LayoutView",
       "align_content": null,
       "align_items": null,
       "align_self": null,
       "border": null,
       "bottom": null,
       "display": null,
       "flex": null,
       "flex_flow": null,
       "grid_area": null,
       "grid_auto_columns": null,
       "grid_auto_flow": null,
       "grid_auto_rows": null,
       "grid_column": null,
       "grid_gap": null,
       "grid_row": null,
       "grid_template_areas": null,
       "grid_template_columns": null,
       "grid_template_rows": null,
       "height": null,
       "justify_content": null,
       "justify_items": null,
       "left": null,
       "margin": null,
       "max_height": null,
       "max_width": null,
       "min_height": null,
       "min_width": null,
       "object_fit": null,
       "object_position": null,
       "order": null,
       "overflow": null,
       "overflow_x": null,
       "overflow_y": null,
       "padding": null,
       "right": null,
       "top": null,
       "visibility": null,
       "width": null
      }
     },
     "4b259af3bca24253a56a5aaf98d209cb": {
      "model_module": "@jupyter-widgets/controls",
      "model_module_version": "1.5.0",
      "model_name": "DescriptionStyleModel",
      "state": {
       "_model_module": "@jupyter-widgets/controls",
       "_model_module_version": "1.5.0",
       "_model_name": "DescriptionStyleModel",
       "_view_count": null,
       "_view_module": "@jupyter-widgets/base",
       "_view_module_version": "1.2.0",
       "_view_name": "StyleView",
       "description_width": ""
      }
     },
     "5eff79b199124c3cb83d38a46a313bfb": {
      "model_module": "@jupyter-widgets/base",
      "model_module_version": "1.2.0",
      "model_name": "LayoutModel",
      "state": {
       "_model_module": "@jupyter-widgets/base",
       "_model_module_version": "1.2.0",
       "_model_name": "LayoutModel",
       "_view_count": null,
       "_view_module": "@jupyter-widgets/base",
       "_view_module_version": "1.2.0",
       "_view_name": "LayoutView",
       "align_content": null,
       "align_items": null,
       "align_self": null,
       "border": null,
       "bottom": null,
       "display": null,
       "flex": null,
       "flex_flow": null,
       "grid_area": null,
       "grid_auto_columns": null,
       "grid_auto_flow": null,
       "grid_auto_rows": null,
       "grid_column": null,
       "grid_gap": null,
       "grid_row": null,
       "grid_template_areas": null,
       "grid_template_columns": null,
       "grid_template_rows": null,
       "height": null,
       "justify_content": null,
       "justify_items": null,
       "left": null,
       "margin": null,
       "max_height": null,
       "max_width": null,
       "min_height": null,
       "min_width": null,
       "object_fit": null,
       "object_position": null,
       "order": null,
       "overflow": null,
       "overflow_x": null,
       "overflow_y": null,
       "padding": null,
       "right": null,
       "top": null,
       "visibility": null,
       "width": null
      }
     },
     "6f535a5d27414c89899d2d52ab7487d9": {
      "model_module": "@jupyter-widgets/controls",
      "model_module_version": "1.5.0",
      "model_name": "ProgressStyleModel",
      "state": {
       "_model_module": "@jupyter-widgets/controls",
       "_model_module_version": "1.5.0",
       "_model_name": "ProgressStyleModel",
       "_view_count": null,
       "_view_module": "@jupyter-widgets/base",
       "_view_module_version": "1.2.0",
       "_view_name": "StyleView",
       "bar_color": null,
       "description_width": ""
      }
     },
     "9e73cf39abf1471f9849579a90762a39": {
      "model_module": "@jupyter-widgets/controls",
      "model_module_version": "1.5.0",
      "model_name": "HBoxModel",
      "state": {
       "_dom_classes": [],
       "_model_module": "@jupyter-widgets/controls",
       "_model_module_version": "1.5.0",
       "_model_name": "HBoxModel",
       "_view_count": null,
       "_view_module": "@jupyter-widgets/controls",
       "_view_module_version": "1.5.0",
       "_view_name": "HBoxView",
       "box_style": "",
       "children": [
        "IPY_MODEL_e0dca79855804c36ba6e03aa75fb22fe",
        "IPY_MODEL_2dd0485921c14787b835169350eea151",
        "IPY_MODEL_dd2b839d1739424c8d6edd9953cb6fec"
       ],
       "layout": "IPY_MODEL_e9ca608e4dff402c9698ceafc0890427"
      }
     },
     "d76dae487d48424da9639a522b348914": {
      "model_module": "@jupyter-widgets/controls",
      "model_module_version": "1.5.0",
      "model_name": "DescriptionStyleModel",
      "state": {
       "_model_module": "@jupyter-widgets/controls",
       "_model_module_version": "1.5.0",
       "_model_name": "DescriptionStyleModel",
       "_view_count": null,
       "_view_module": "@jupyter-widgets/base",
       "_view_module_version": "1.2.0",
       "_view_name": "StyleView",
       "description_width": ""
      }
     },
     "dd2b839d1739424c8d6edd9953cb6fec": {
      "model_module": "@jupyter-widgets/controls",
      "model_module_version": "1.5.0",
      "model_name": "HTMLModel",
      "state": {
       "_dom_classes": [],
       "_model_module": "@jupyter-widgets/controls",
       "_model_module_version": "1.5.0",
       "_model_name": "HTMLModel",
       "_view_count": null,
       "_view_module": "@jupyter-widgets/controls",
       "_view_module_version": "1.5.0",
       "_view_name": "HTMLView",
       "description": "",
       "description_tooltip": null,
       "layout": "IPY_MODEL_5eff79b199124c3cb83d38a46a313bfb",
       "placeholder": "​",
       "style": "IPY_MODEL_d76dae487d48424da9639a522b348914",
       "value": " 102M/102M [00:00&lt;00:00, 251MB/s]"
      }
     },
     "e0dca79855804c36ba6e03aa75fb22fe": {
      "model_module": "@jupyter-widgets/controls",
      "model_module_version": "1.5.0",
      "model_name": "HTMLModel",
      "state": {
       "_dom_classes": [],
       "_model_module": "@jupyter-widgets/controls",
       "_model_module_version": "1.5.0",
       "_model_name": "HTMLModel",
       "_view_count": null,
       "_view_module": "@jupyter-widgets/controls",
       "_view_module_version": "1.5.0",
       "_view_name": "HTMLView",
       "description": "",
       "description_tooltip": null,
       "layout": "IPY_MODEL_02b324fdac4b40d699c85d6d4e671327",
       "placeholder": "​",
       "style": "IPY_MODEL_4b259af3bca24253a56a5aaf98d209cb",
       "value": "model.safetensors: 100%"
      }
     },
     "e9ca608e4dff402c9698ceafc0890427": {
      "model_module": "@jupyter-widgets/base",
      "model_module_version": "1.2.0",
      "model_name": "LayoutModel",
      "state": {
       "_model_module": "@jupyter-widgets/base",
       "_model_module_version": "1.2.0",
       "_model_name": "LayoutModel",
       "_view_count": null,
       "_view_module": "@jupyter-widgets/base",
       "_view_module_version": "1.2.0",
       "_view_name": "LayoutView",
       "align_content": null,
       "align_items": null,
       "align_self": null,
       "border": null,
       "bottom": null,
       "display": null,
       "flex": null,
       "flex_flow": null,
       "grid_area": null,
       "grid_auto_columns": null,
       "grid_auto_flow": null,
       "grid_auto_rows": null,
       "grid_column": null,
       "grid_gap": null,
       "grid_row": null,
       "grid_template_areas": null,
       "grid_template_columns": null,
       "grid_template_rows": null,
       "height": null,
       "justify_content": null,
       "justify_items": null,
       "left": null,
       "margin": null,
       "max_height": null,
       "max_width": null,
       "min_height": null,
       "min_width": null,
       "object_fit": null,
       "object_position": null,
       "order": null,
       "overflow": null,
       "overflow_x": null,
       "overflow_y": null,
       "padding": null,
       "right": null,
       "top": null,
       "visibility": null,
       "width": null
      }
     }
    },
    "version_major": 2,
    "version_minor": 0
   }
  }
 },
 "nbformat": 4,
 "nbformat_minor": 5
}
